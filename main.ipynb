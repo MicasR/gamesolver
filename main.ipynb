{
 "cells": [
  {
   "cell_type": "code",
   "execution_count": 1,
   "metadata": {},
   "outputs": [],
   "source": [
    "import cv2\n",
    "import uiautomator2 as u2\n",
    "import numpy as np\n",
    "from PIL import Image\n",
    "import io\n",
    "import time\n"
   ]
  },
  {
   "cell_type": "code",
   "execution_count": 2,
   "metadata": {},
   "outputs": [],
   "source": [
    "d = u2.connect(\"R9YR810XVMX\")  # Connect to device"
   ]
  },
  {
   "cell_type": "code",
   "execution_count": 3,
   "metadata": {},
   "outputs": [],
   "source": [
    "# Open the android application\n",
    "# Todo make sure the phone is unlocked\n",
    "package_name = \"com.stacity.sort.color.water.drink\" #game application\n",
    "d.app_start(package_name)\n",
    "\n",
    "time.sleep(20)"
   ]
  },
  {
   "cell_type": "code",
   "execution_count": null,
   "metadata": {},
   "outputs": [],
   "source": [
    "screenshot = d.screenshot()\n",
    "screenshot.save('games/water_color_sort/screenshots/game_screen.png')"
   ]
  },
  {
   "cell_type": "code",
   "execution_count": 5,
   "metadata": {},
   "outputs": [
    {
     "name": "stdout",
     "output_type": "stream",
     "text": [
      "center_x =360 center_y =922\n"
     ]
    }
   ],
   "source": [
    "# Load and process the image\n",
    "img = cv2.imread('game_screen.png')\n",
    "\n",
    "# Convert to HSV for better color detection\n",
    "hsv = cv2.cvtColor(img, cv2.COLOR_BGR2HSV)\n",
    "\n",
    "# Define color range for typical play button colors (yellow/blue)\n",
    "lower_color = np.array([20, 100, 100])  # Adjusted for yellow\n",
    "upper_color = np.array([30, 255, 255])  # Adjusted for yellow\n",
    "\n",
    "# Create mask for color detection\n",
    "mask = cv2.inRange(hsv, lower_color, upper_color)\n",
    "\n",
    "# Find contours of potential buttons\n",
    "contours, _ = cv2.findContours(mask, cv2.RETR_EXTERNAL, cv2.CHAIN_APPROX_SIMPLE)\n",
    "\n",
    "if contours:\n",
    "    # Find the largest contour (likely to be the button)\n",
    "    largest_contour = max(contours, key=cv2.contourArea)\n",
    "    x, y, w, h = cv2.boundingRect(largest_contour)\n",
    "    \n",
    "    # Calculate center of the button\n",
    "    center_x = x + w//2\n",
    "    center_y = y + h//2\n",
    "    \n",
    "    print(f\"{center_x =} {center_y =}\")\n",
    "    d.click(center_x, center_y)\n",
    "else:\n",
    "    print(\"No button detected with current color range\")"
   ]
  },
  {
   "cell_type": "code",
   "execution_count": 8,
   "metadata": {},
   "outputs": [],
   "source": [
    "d.screenshot().save('games/water_color_sorting/screenshots/in_game_screenshot.png')"
   ]
  },
  {
   "cell_type": "code",
   "execution_count": null,
   "metadata": {},
   "outputs": [],
   "source": []
  }
 ],
 "metadata": {
  "kernelspec": {
   "display_name": "venv",
   "language": "python",
   "name": "python3"
  },
  "language_info": {
   "codemirror_mode": {
    "name": "ipython",
    "version": 3
   },
   "file_extension": ".py",
   "mimetype": "text/x-python",
   "name": "python",
   "nbconvert_exporter": "python",
   "pygments_lexer": "ipython3",
   "version": "3.11.3"
  }
 },
 "nbformat": 4,
 "nbformat_minor": 2
}
